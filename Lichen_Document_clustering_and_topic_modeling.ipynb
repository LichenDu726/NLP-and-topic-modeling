{
  "nbformat": 4,
  "nbformat_minor": 0,
  "metadata": {
    "colab": {
      "name": "Lichen_Document clustering and topic modeling.ipynb",
      "provenance": []
    },
    "kernelspec": {
      "name": "python3",
      "display_name": "Python 3"
    }
  },
  "cells": [
    {
      "cell_type": "markdown",
      "metadata": {
        "id": "nJALW20YdU3v",
        "colab_type": "text"
      },
      "source": [
        "# Document clustering and topic modeling"
      ]
    },
    {
      "cell_type": "markdown",
      "metadata": {
        "id": "1ND8AMLYdhS5",
        "colab_type": "text"
      },
      "source": [
        "## Set up environment"
      ]
    },
    {
      "cell_type": "code",
      "metadata": {
        "id": "fmyuOUqRc_iP",
        "colab_type": "code",
        "colab": {}
      },
      "source": [
        "!pip install -U -q PyDrive\n",
        "\n",
        "from pydrive.auth import GoogleAuth\n",
        "from pydrive.drive import GoogleDrive\n",
        "from google.colab import auth\n",
        "from oauth2client.client import GoogleCredentials\n",
        "\n",
        "auth.authenticate_user()\n",
        "gauth = GoogleAuth()\n",
        "gauth.credentials = GoogleCredentials.get_application_default()\n",
        "drive = GoogleDrive(gauth)"
      ],
      "execution_count": 1,
      "outputs": []
    },
    {
      "cell_type": "code",
      "metadata": {
        "id": "mlJ3YTgLfWRo",
        "colab_type": "code",
        "colab": {}
      },
      "source": [
        "file = drive.CreateFile({'id':'192JMR7SIqoa14vrs7Z9BXO3iK89pimJL'})\n",
        "file.GetContentFile('data.tsv')   "
      ],
      "execution_count": 6,
      "outputs": []
    },
    {
      "cell_type": "markdown",
      "metadata": {
        "id": "B_f8Q6CdfZ2b",
        "colab_type": "text"
      },
      "source": [
        "# Load data"
      ]
    },
    {
      "cell_type": "code",
      "metadata": {
        "id": "KaBlOW1nezE_",
        "colab_type": "code",
        "colab": {
          "base_uri": "https://localhost:8080/",
          "height": 102
        },
        "outputId": "59304cbf-a24e-40af-8705-e24fdee39a71"
      },
      "source": [
        "import numpy as np\n",
        "import pandas as pd\n",
        "import nltk\n",
        "import gensim\n",
        "\n",
        "from sklearn.feature_extraction.text import TfidfVectorizer\n",
        "import matplotlib.pyplot as plt\n",
        "\n",
        "nltk.download('punkt')\n",
        "nltk.download('stopwords')"
      ],
      "execution_count": 7,
      "outputs": [
        {
          "output_type": "stream",
          "text": [
            "[nltk_data] Downloading package punkt to /root/nltk_data...\n",
            "[nltk_data]   Package punkt is already up-to-date!\n",
            "[nltk_data] Downloading package stopwords to /root/nltk_data...\n",
            "[nltk_data]   Unzipping corpora/stopwords.zip.\n"
          ],
          "name": "stdout"
        },
        {
          "output_type": "execute_result",
          "data": {
            "text/plain": [
              "True"
            ]
          },
          "metadata": {
            "tags": []
          },
          "execution_count": 7
        }
      ]
    },
    {
      "cell_type": "code",
      "metadata": {
        "id": "KLzywDU7fcqk",
        "colab_type": "code",
        "colab": {
          "base_uri": "https://localhost:8080/",
          "height": 190
        },
        "outputId": "ad0a6f53-b1d7-446b-adb5-3694a4677e42"
      },
      "source": [
        "# Load data into dataframe\n",
        "df = pd.read_csv('data.tsv', sep='\\t', header=0, error_bad_lines=False)"
      ],
      "execution_count": 8,
      "outputs": [
        {
          "output_type": "stream",
          "text": [
            "b'Skipping line 8704: expected 15 fields, saw 22\\nSkipping line 16933: expected 15 fields, saw 22\\nSkipping line 23726: expected 15 fields, saw 22\\n'\n",
            "b'Skipping line 85637: expected 15 fields, saw 22\\n'\n",
            "b'Skipping line 132136: expected 15 fields, saw 22\\nSkipping line 158070: expected 15 fields, saw 22\\nSkipping line 166007: expected 15 fields, saw 22\\nSkipping line 171877: expected 15 fields, saw 22\\nSkipping line 177756: expected 15 fields, saw 22\\nSkipping line 181773: expected 15 fields, saw 22\\nSkipping line 191085: expected 15 fields, saw 22\\nSkipping line 196273: expected 15 fields, saw 22\\nSkipping line 196331: expected 15 fields, saw 22\\n'\n",
            "b'Skipping line 197000: expected 15 fields, saw 22\\nSkipping line 197011: expected 15 fields, saw 22\\nSkipping line 197432: expected 15 fields, saw 22\\nSkipping line 208016: expected 15 fields, saw 22\\nSkipping line 214110: expected 15 fields, saw 22\\nSkipping line 244328: expected 15 fields, saw 22\\nSkipping line 248519: expected 15 fields, saw 22\\nSkipping line 254936: expected 15 fields, saw 22\\n'\n",
            "b'Skipping line 272057: expected 15 fields, saw 22\\nSkipping line 293214: expected 15 fields, saw 22\\nSkipping line 310507: expected 15 fields, saw 22\\nSkipping line 312306: expected 15 fields, saw 22\\nSkipping line 316296: expected 15 fields, saw 22\\n'\n",
            "b'Skipping line 336028: expected 15 fields, saw 22\\nSkipping line 344885: expected 15 fields, saw 22\\nSkipping line 352551: expected 15 fields, saw 22\\n'\n",
            "b'Skipping line 408773: expected 15 fields, saw 22\\nSkipping line 434535: expected 15 fields, saw 22\\n'\n",
            "b'Skipping line 581593: expected 15 fields, saw 22\\n'\n",
            "b'Skipping line 652409: expected 15 fields, saw 22\\n'\n"
          ],
          "name": "stderr"
        }
      ]
    },
    {
      "cell_type": "code",
      "metadata": {
        "id": "zDLMeTEqffrT",
        "colab_type": "code",
        "colab": {
          "base_uri": "https://localhost:8080/",
          "height": 530
        },
        "outputId": "3025591b-5333-406f-be6c-833f62601a5b"
      },
      "source": [
        "df.head()"
      ],
      "execution_count": 9,
      "outputs": [
        {
          "output_type": "execute_result",
          "data": {
            "text/html": [
              "<div>\n",
              "<style scoped>\n",
              "    .dataframe tbody tr th:only-of-type {\n",
              "        vertical-align: middle;\n",
              "    }\n",
              "\n",
              "    .dataframe tbody tr th {\n",
              "        vertical-align: top;\n",
              "    }\n",
              "\n",
              "    .dataframe thead th {\n",
              "        text-align: right;\n",
              "    }\n",
              "</style>\n",
              "<table border=\"1\" class=\"dataframe\">\n",
              "  <thead>\n",
              "    <tr style=\"text-align: right;\">\n",
              "      <th></th>\n",
              "      <th>marketplace</th>\n",
              "      <th>customer_id</th>\n",
              "      <th>review_id</th>\n",
              "      <th>product_id</th>\n",
              "      <th>product_parent</th>\n",
              "      <th>product_title</th>\n",
              "      <th>product_category</th>\n",
              "      <th>star_rating</th>\n",
              "      <th>helpful_votes</th>\n",
              "      <th>total_votes</th>\n",
              "      <th>vine</th>\n",
              "      <th>verified_purchase</th>\n",
              "      <th>review_headline</th>\n",
              "      <th>review_body</th>\n",
              "      <th>review_date</th>\n",
              "    </tr>\n",
              "  </thead>\n",
              "  <tbody>\n",
              "    <tr>\n",
              "      <th>0</th>\n",
              "      <td>US</td>\n",
              "      <td>3653882</td>\n",
              "      <td>R3O9SGZBVQBV76</td>\n",
              "      <td>B00FALQ1ZC</td>\n",
              "      <td>937001370</td>\n",
              "      <td>Invicta Women's 15150 \"Angel\" 18k Yellow Gold ...</td>\n",
              "      <td>Watches</td>\n",
              "      <td>5</td>\n",
              "      <td>0</td>\n",
              "      <td>0</td>\n",
              "      <td>N</td>\n",
              "      <td>Y</td>\n",
              "      <td>Five Stars</td>\n",
              "      <td>Absolutely love this watch! Get compliments al...</td>\n",
              "      <td>2015-08-31</td>\n",
              "    </tr>\n",
              "    <tr>\n",
              "      <th>1</th>\n",
              "      <td>US</td>\n",
              "      <td>14661224</td>\n",
              "      <td>RKH8BNC3L5DLF</td>\n",
              "      <td>B00D3RGO20</td>\n",
              "      <td>484010722</td>\n",
              "      <td>Kenneth Cole New York Women's KC4944 Automatic...</td>\n",
              "      <td>Watches</td>\n",
              "      <td>5</td>\n",
              "      <td>0</td>\n",
              "      <td>0</td>\n",
              "      <td>N</td>\n",
              "      <td>Y</td>\n",
              "      <td>I love thiswatch it keeps time wonderfully</td>\n",
              "      <td>I love this watch it keeps time wonderfully.</td>\n",
              "      <td>2015-08-31</td>\n",
              "    </tr>\n",
              "    <tr>\n",
              "      <th>2</th>\n",
              "      <td>US</td>\n",
              "      <td>27324930</td>\n",
              "      <td>R2HLE8WKZSU3NL</td>\n",
              "      <td>B00DKYC7TK</td>\n",
              "      <td>361166390</td>\n",
              "      <td>Ritche 22mm Black Stainless Steel Bracelet Wat...</td>\n",
              "      <td>Watches</td>\n",
              "      <td>2</td>\n",
              "      <td>1</td>\n",
              "      <td>1</td>\n",
              "      <td>N</td>\n",
              "      <td>Y</td>\n",
              "      <td>Two Stars</td>\n",
              "      <td>Scratches</td>\n",
              "      <td>2015-08-31</td>\n",
              "    </tr>\n",
              "    <tr>\n",
              "      <th>3</th>\n",
              "      <td>US</td>\n",
              "      <td>7211452</td>\n",
              "      <td>R31U3UH5AZ42LL</td>\n",
              "      <td>B000EQS1JW</td>\n",
              "      <td>958035625</td>\n",
              "      <td>Citizen Men's BM8180-03E Eco-Drive Stainless S...</td>\n",
              "      <td>Watches</td>\n",
              "      <td>5</td>\n",
              "      <td>0</td>\n",
              "      <td>0</td>\n",
              "      <td>N</td>\n",
              "      <td>Y</td>\n",
              "      <td>Five Stars</td>\n",
              "      <td>It works well on me. However, I found cheaper ...</td>\n",
              "      <td>2015-08-31</td>\n",
              "    </tr>\n",
              "    <tr>\n",
              "      <th>4</th>\n",
              "      <td>US</td>\n",
              "      <td>12733322</td>\n",
              "      <td>R2SV659OUJ945Y</td>\n",
              "      <td>B00A6GFD7S</td>\n",
              "      <td>765328221</td>\n",
              "      <td>Orient ER27009B Men's Symphony Automatic Stain...</td>\n",
              "      <td>Watches</td>\n",
              "      <td>4</td>\n",
              "      <td>0</td>\n",
              "      <td>0</td>\n",
              "      <td>N</td>\n",
              "      <td>Y</td>\n",
              "      <td>Beautiful face, but cheap sounding links</td>\n",
              "      <td>Beautiful watch face.  The band looks nice all...</td>\n",
              "      <td>2015-08-31</td>\n",
              "    </tr>\n",
              "  </tbody>\n",
              "</table>\n",
              "</div>"
            ],
            "text/plain": [
              "  marketplace  ...  review_date\n",
              "0          US  ...   2015-08-31\n",
              "1          US  ...   2015-08-31\n",
              "2          US  ...   2015-08-31\n",
              "3          US  ...   2015-08-31\n",
              "4          US  ...   2015-08-31\n",
              "\n",
              "[5 rows x 15 columns]"
            ]
          },
          "metadata": {
            "tags": []
          },
          "execution_count": 9
        }
      ]
    },
    {
      "cell_type": "code",
      "metadata": {
        "id": "glePEqDNfibv",
        "colab_type": "code",
        "colab": {}
      },
      "source": [
        "# Remove missing value\n",
        "df.dropna(subset=['review_body'],inplace=True)"
      ],
      "execution_count": 10,
      "outputs": []
    },
    {
      "cell_type": "code",
      "metadata": {
        "id": "GaJByDBnf9XC",
        "colab_type": "code",
        "colab": {
          "base_uri": "https://localhost:8080/",
          "height": 391
        },
        "outputId": "2afc0ecc-a5aa-4037-c6bc-9b85f4f754f9"
      },
      "source": [
        "df.info()"
      ],
      "execution_count": 11,
      "outputs": [
        {
          "output_type": "stream",
          "text": [
            "<class 'pandas.core.frame.DataFrame'>\n",
            "Int64Index: 960056 entries, 0 to 960203\n",
            "Data columns (total 15 columns):\n",
            " #   Column             Non-Null Count   Dtype \n",
            "---  ------             --------------   ----- \n",
            " 0   marketplace        960056 non-null  object\n",
            " 1   customer_id        960056 non-null  int64 \n",
            " 2   review_id          960056 non-null  object\n",
            " 3   product_id         960056 non-null  object\n",
            " 4   product_parent     960056 non-null  int64 \n",
            " 5   product_title      960054 non-null  object\n",
            " 6   product_category   960056 non-null  object\n",
            " 7   star_rating        960056 non-null  int64 \n",
            " 8   helpful_votes      960056 non-null  int64 \n",
            " 9   total_votes        960056 non-null  int64 \n",
            " 10  vine               960056 non-null  object\n",
            " 11  verified_purchase  960056 non-null  object\n",
            " 12  review_headline    960049 non-null  object\n",
            " 13  review_body        960056 non-null  object\n",
            " 14  review_date        960052 non-null  object\n",
            "dtypes: int64(5), object(10)\n",
            "memory usage: 117.2+ MB\n"
          ],
          "name": "stdout"
        }
      ]
    },
    {
      "cell_type": "code",
      "metadata": {
        "id": "SunfdY_jgGSk",
        "colab_type": "code",
        "colab": {}
      },
      "source": [
        "# substract review_body as trainning set\n",
        "data = df.loc[:, 'review_body'].tolist()"
      ],
      "execution_count": 15,
      "outputs": []
    },
    {
      "cell_type": "markdown",
      "metadata": {
        "id": "0zFdy6gAg0Yl",
        "colab_type": "text"
      },
      "source": [
        "# Tokenizing and stemming"
      ]
    },
    {
      "cell_type": "code",
      "metadata": {
        "id": "WrfmpWLEgNJN",
        "colab_type": "code",
        "colab": {
          "base_uri": "https://localhost:8080/",
          "height": 71
        },
        "outputId": "5e3e2fab-985f-460c-e975-8e573ee31fd5"
      },
      "source": [
        "# Use nltk's English stopwords.\n",
        "stopwords = nltk.corpus.stopwords.words('english')\n",
        "stopwords.append(\"'s\")\n",
        "stopwords.append(\"'m\")\n",
        "stopwords.append(\"n't\")\n",
        "stopwords.append(\"br\")\n",
        "\n",
        "print (\"We use \" + str(len(stopwords)) + \" stop-words from nltk library.\")\n",
        "print (stopwords[:20])"
      ],
      "execution_count": 17,
      "outputs": [
        {
          "output_type": "stream",
          "text": [
            "We use 183 stop-words from nltk library.\n",
            "['i', 'me', 'my', 'myself', 'we', 'our', 'ours', 'ourselves', 'you', \"you're\", \"you've\", \"you'll\", \"you'd\", 'your', 'yours', 'yourself', 'yourselves', 'he', 'him', 'his']\n"
          ],
          "name": "stdout"
        }
      ]
    },
    {
      "cell_type": "code",
      "metadata": {
        "id": "H578HlxIhp7y",
        "colab_type": "code",
        "colab": {}
      },
      "source": [
        "from nltk.stem.snowball import SnowballStemmer\n",
        "import re\n",
        "\n",
        "stemmer = SnowballStemmer(\"english\")\n",
        "\n",
        "# tokenization and stemming\n",
        "def tokenization_and_stemming(text):\n",
        "    tokens = []\n",
        "    # exclude stop words and tokenize the document, generate a list of string \n",
        "    for word in nltk.word_tokenize(text):\n",
        "        if word.lower() not in stopwords:\n",
        "            tokens.append(word.lower())\n",
        "\n",
        "    filtered_tokens = []\n",
        "    \n",
        "    # filter out any tokens not containing letters (e.g., numeric tokens, raw punctuation)\n",
        "    for token in tokens:\n",
        "        if re.search('[a-zA-Z]', token):\n",
        "            filtered_tokens.append(token)\n",
        "            \n",
        "    # stemming\n",
        "    stems = [stemmer.stem(t) for t in filtered_tokens]\n",
        "    return stems"
      ],
      "execution_count": 19,
      "outputs": []
    },
    {
      "cell_type": "code",
      "metadata": {
        "id": "7HW_hLyBiD9k",
        "colab_type": "code",
        "colab": {
          "base_uri": "https://localhost:8080/",
          "height": 187
        },
        "outputId": "7152e735-18e9-4555-89bb-c47ce33306de"
      },
      "source": [
        "tokenization_and_stemming(data[0])"
      ],
      "execution_count": 20,
      "outputs": [
        {
          "output_type": "execute_result",
          "data": {
            "text/plain": [
              "['absolut',\n",
              " 'love',\n",
              " 'watch',\n",
              " 'get',\n",
              " 'compliment',\n",
              " 'almost',\n",
              " 'everi',\n",
              " 'time',\n",
              " 'wear',\n",
              " 'dainti']"
            ]
          },
          "metadata": {
            "tags": []
          },
          "execution_count": 20
        }
      ]
    },
    {
      "cell_type": "markdown",
      "metadata": {
        "id": "elTgGR1Ai2n8",
        "colab_type": "text"
      },
      "source": [
        "# TF-IDF"
      ]
    },
    {
      "cell_type": "code",
      "metadata": {
        "id": "-juo2H7QirgO",
        "colab_type": "code",
        "colab": {
          "base_uri": "https://localhost:8080/",
          "height": 34
        },
        "outputId": "cf3d39fe-9645-4bc5-ae5d-6c8187d10c61"
      },
      "source": [
        "tfidf_model = TfidfVectorizer(max_df=0.99, max_features=1000,\n",
        "                                 min_df=0.01, stop_words='english',\n",
        "                                 use_idf=True, tokenizer=tokenization_and_stemming, ngram_range=(1,2))\n",
        "\n",
        "tfidf_matrix = tfidf_model.fit_transform(data) #fit the vectorizer to synopses\n",
        "\n",
        "print (\"In total, there are \" + str(tfidf_matrix.shape[0]) + \\\n",
        "      \" reviews and \" + str(tfidf_matrix.shape[1]) + \" terms.\")"
      ],
      "execution_count": 22,
      "outputs": [
        {
          "output_type": "stream",
          "text": [
            "In total, there are 960056 reviews and 411 terms.\n"
          ],
          "name": "stdout"
        }
      ]
    },
    {
      "cell_type": "code",
      "metadata": {
        "id": "BgrTXiKTycdX",
        "colab_type": "code",
        "colab": {
          "base_uri": "https://localhost:8080/",
          "height": 374
        },
        "outputId": "1071b71d-91c1-49e0-ebff-8a80757696eb"
      },
      "source": [
        "# check the parameters\n",
        "tfidf_model.get_params()"
      ],
      "execution_count": 23,
      "outputs": [
        {
          "output_type": "execute_result",
          "data": {
            "text/plain": [
              "{'analyzer': 'word',\n",
              " 'binary': False,\n",
              " 'decode_error': 'strict',\n",
              " 'dtype': numpy.float64,\n",
              " 'encoding': 'utf-8',\n",
              " 'input': 'content',\n",
              " 'lowercase': True,\n",
              " 'max_df': 0.99,\n",
              " 'max_features': 1000,\n",
              " 'min_df': 0.01,\n",
              " 'ngram_range': (1, 2),\n",
              " 'norm': 'l2',\n",
              " 'preprocessor': None,\n",
              " 'smooth_idf': True,\n",
              " 'stop_words': 'english',\n",
              " 'strip_accents': None,\n",
              " 'sublinear_tf': False,\n",
              " 'token_pattern': '(?u)\\\\b\\\\w\\\\w+\\\\b',\n",
              " 'tokenizer': <function __main__.tokenization_and_stemming>,\n",
              " 'use_idf': True,\n",
              " 'vocabulary': None}"
            ]
          },
          "metadata": {
            "tags": []
          },
          "execution_count": 23
        }
      ]
    },
    {
      "cell_type": "code",
      "metadata": {
        "id": "kAkPLg6ryO7q",
        "colab_type": "code",
        "colab": {}
      },
      "source": [
        "# words\n",
        "tf_selected_words = tfidf_model.get_feature_names()"
      ],
      "execution_count": 24,
      "outputs": []
    },
    {
      "cell_type": "code",
      "metadata": {
        "id": "BcYO1Geiyfyq",
        "colab_type": "code",
        "colab": {
          "base_uri": "https://localhost:8080/",
          "height": 187
        },
        "outputId": "8e818c3c-dfd2-470a-f5f4-6385b98ceeb0"
      },
      "source": [
        "tf_selected_words[:10]"
      ],
      "execution_count": 48,
      "outputs": [
        {
          "output_type": "execute_result",
          "data": {
            "text/plain": [
              "[\"'d\",\n",
              " 'abl',\n",
              " 'absolut',\n",
              " 'absolut love',\n",
              " 'accur',\n",
              " 'actual',\n",
              " 'adjust',\n",
              " 'ago',\n",
              " 'alarm',\n",
              " 'alreadi']"
            ]
          },
          "metadata": {
            "tags": []
          },
          "execution_count": 48
        }
      ]
    },
    {
      "cell_type": "code",
      "metadata": {
        "id": "2Zv1QQSfyh26",
        "colab_type": "code",
        "colab": {
          "base_uri": "https://localhost:8080/",
          "height": 51
        },
        "outputId": "99d11559-efe6-4617-9833-50f06b28b3fb"
      },
      "source": [
        "Eftfidf_matrix"
      ],
      "execution_count": 26,
      "outputs": [
        {
          "output_type": "execute_result",
          "data": {
            "text/plain": [
              "<960056x411 sparse matrix of type '<class 'numpy.float64'>'\n",
              "\twith 12161247 stored elements in Compressed Sparse Row format>"
            ]
          },
          "metadata": {
            "tags": []
          },
          "execution_count": 26
        }
      ]
    },
    {
      "cell_type": "markdown",
      "metadata": {
        "id": "KeUbcvg-yowP",
        "colab_type": "text"
      },
      "source": [
        "#K means clustering"
      ]
    },
    {
      "cell_type": "code",
      "metadata": {
        "id": "4C9s8JQMylbu",
        "colab_type": "code",
        "colab": {}
      },
      "source": [
        "# k-means clustering\n",
        "from sklearn.cluster import KMeans\n",
        "\n",
        "num_clusters = 5\n",
        "\n",
        "# number of clusters\n",
        "km = KMeans(n_clusters=num_clusters)\n",
        "km.fit(tfidf_matrix)\n",
        "\n",
        "clusters = km.labels_.tolist()"
      ],
      "execution_count": 27,
      "outputs": []
    },
    {
      "cell_type": "code",
      "metadata": {
        "id": "0k-eoPwgysxz",
        "colab_type": "code",
        "colab": {}
      },
      "source": [
        "product = { 'review': df[:].review_body, 'cluster': clusters}\n",
        "frame = pd.DataFrame(product, columns = ['review', 'cluster'])"
      ],
      "execution_count": 34,
      "outputs": []
    },
    {
      "cell_type": "code",
      "metadata": {
        "id": "StUjZuMwywF7",
        "colab_type": "code",
        "colab": {
          "base_uri": "https://localhost:8080/",
          "height": 359
        },
        "outputId": "211c43fb-1d78-45fd-c800-d85b6d3f517a"
      },
      "source": [
        "frame.head(10)"
      ],
      "execution_count": 35,
      "outputs": [
        {
          "output_type": "execute_result",
          "data": {
            "text/html": [
              "<div>\n",
              "<style scoped>\n",
              "    .dataframe tbody tr th:only-of-type {\n",
              "        vertical-align: middle;\n",
              "    }\n",
              "\n",
              "    .dataframe tbody tr th {\n",
              "        vertical-align: top;\n",
              "    }\n",
              "\n",
              "    .dataframe thead th {\n",
              "        text-align: right;\n",
              "    }\n",
              "</style>\n",
              "<table border=\"1\" class=\"dataframe\">\n",
              "  <thead>\n",
              "    <tr style=\"text-align: right;\">\n",
              "      <th></th>\n",
              "      <th>review</th>\n",
              "      <th>cluster</th>\n",
              "    </tr>\n",
              "  </thead>\n",
              "  <tbody>\n",
              "    <tr>\n",
              "      <th>0</th>\n",
              "      <td>Absolutely love this watch! Get compliments al...</td>\n",
              "      <td>0</td>\n",
              "    </tr>\n",
              "    <tr>\n",
              "      <th>1</th>\n",
              "      <td>I love this watch it keeps time wonderfully.</td>\n",
              "      <td>0</td>\n",
              "    </tr>\n",
              "    <tr>\n",
              "      <th>2</th>\n",
              "      <td>Scratches</td>\n",
              "      <td>3</td>\n",
              "    </tr>\n",
              "    <tr>\n",
              "      <th>3</th>\n",
              "      <td>It works well on me. However, I found cheaper ...</td>\n",
              "      <td>3</td>\n",
              "    </tr>\n",
              "    <tr>\n",
              "      <th>4</th>\n",
              "      <td>Beautiful watch face.  The band looks nice all...</td>\n",
              "      <td>3</td>\n",
              "    </tr>\n",
              "    <tr>\n",
              "      <th>5</th>\n",
              "      <td>i love this watch for my purpose, about the pe...</td>\n",
              "      <td>0</td>\n",
              "    </tr>\n",
              "    <tr>\n",
              "      <th>6</th>\n",
              "      <td>for my wife and she loved it, looks great and ...</td>\n",
              "      <td>4</td>\n",
              "    </tr>\n",
              "    <tr>\n",
              "      <th>7</th>\n",
              "      <td>I was about to buy this thinking it was a Swis...</td>\n",
              "      <td>3</td>\n",
              "    </tr>\n",
              "    <tr>\n",
              "      <th>8</th>\n",
              "      <td>Watch is perfect. Rugged with the metal &amp;#34;B...</td>\n",
              "      <td>4</td>\n",
              "    </tr>\n",
              "    <tr>\n",
              "      <th>9</th>\n",
              "      <td>Great quality and build.&lt;br /&gt;The motors are r...</td>\n",
              "      <td>4</td>\n",
              "    </tr>\n",
              "  </tbody>\n",
              "</table>\n",
              "</div>"
            ],
            "text/plain": [
              "                                              review  cluster\n",
              "0  Absolutely love this watch! Get compliments al...        0\n",
              "1       I love this watch it keeps time wonderfully.        0\n",
              "2                                          Scratches        3\n",
              "3  It works well on me. However, I found cheaper ...        3\n",
              "4  Beautiful watch face.  The band looks nice all...        3\n",
              "5  i love this watch for my purpose, about the pe...        0\n",
              "6  for my wife and she loved it, looks great and ...        4\n",
              "7  I was about to buy this thinking it was a Swis...        3\n",
              "8  Watch is perfect. Rugged with the metal &#34;B...        4\n",
              "9  Great quality and build.<br />The motors are r...        4"
            ]
          },
          "metadata": {
            "tags": []
          },
          "execution_count": 35
        }
      ]
    },
    {
      "cell_type": "code",
      "metadata": {
        "id": "rLItbQh-y3Qz",
        "colab_type": "code",
        "colab": {
          "base_uri": "https://localhost:8080/",
          "height": 221
        },
        "outputId": "67b10416-c70f-42d9-e4af-d118711493c9"
      },
      "source": [
        "print (\"Number of reviews included in each cluster:\")\n",
        "frame['cluster'].value_counts().to_frame()"
      ],
      "execution_count": 36,
      "outputs": [
        {
          "output_type": "stream",
          "text": [
            "Number of reviews included in each cluster:\n"
          ],
          "name": "stdout"
        },
        {
          "output_type": "execute_result",
          "data": {
            "text/html": [
              "<div>\n",
              "<style scoped>\n",
              "    .dataframe tbody tr th:only-of-type {\n",
              "        vertical-align: middle;\n",
              "    }\n",
              "\n",
              "    .dataframe tbody tr th {\n",
              "        vertical-align: top;\n",
              "    }\n",
              "\n",
              "    .dataframe thead th {\n",
              "        text-align: right;\n",
              "    }\n",
              "</style>\n",
              "<table border=\"1\" class=\"dataframe\">\n",
              "  <thead>\n",
              "    <tr style=\"text-align: right;\">\n",
              "      <th></th>\n",
              "      <th>cluster</th>\n",
              "    </tr>\n",
              "  </thead>\n",
              "  <tbody>\n",
              "    <tr>\n",
              "      <th>3</th>\n",
              "      <td>636542</td>\n",
              "    </tr>\n",
              "    <tr>\n",
              "      <th>4</th>\n",
              "      <td>115873</td>\n",
              "    </tr>\n",
              "    <tr>\n",
              "      <th>0</th>\n",
              "      <td>95776</td>\n",
              "    </tr>\n",
              "    <tr>\n",
              "      <th>1</th>\n",
              "      <td>71673</td>\n",
              "    </tr>\n",
              "    <tr>\n",
              "      <th>2</th>\n",
              "      <td>40192</td>\n",
              "    </tr>\n",
              "  </tbody>\n",
              "</table>\n",
              "</div>"
            ],
            "text/plain": [
              "   cluster\n",
              "3   636542\n",
              "4   115873\n",
              "0    95776\n",
              "1    71673\n",
              "2    40192"
            ]
          },
          "metadata": {
            "tags": []
          },
          "execution_count": 36
        }
      ]
    },
    {
      "cell_type": "code",
      "metadata": {
        "id": "wzgmEqUCy4yk",
        "colab_type": "code",
        "colab": {
          "base_uri": "https://localhost:8080/",
          "height": 187
        },
        "outputId": "32194e66-cd18-4966-b365-399ca55b068b"
      },
      "source": [
        "km.cluster_centers_"
      ],
      "execution_count": 37,
      "outputs": [
        {
          "output_type": "execute_result",
          "data": {
            "text/plain": [
              "array([[0.00126937, 0.00207204, 0.02137691, ..., 0.00171569, 0.01176861,\n",
              "        0.00680251],\n",
              "       [0.00172826, 0.0017194 , 0.00143768, ..., 0.00207161, 0.00490479,\n",
              "        0.00162052],\n",
              "       [0.00066598, 0.00049239, 0.00041813, ..., 0.00074147, 0.00305293,\n",
              "        0.00040923],\n",
              "       [0.00440864, 0.00537962, 0.00499399, ..., 0.0043641 , 0.01905546,\n",
              "        0.00401179],\n",
              "       [0.0018309 , 0.00230686, 0.00440453, ..., 0.00289153, 0.01171859,\n",
              "        0.00268264]])"
            ]
          },
          "metadata": {
            "tags": []
          },
          "execution_count": 37
        }
      ]
    },
    {
      "cell_type": "code",
      "metadata": {
        "id": "tDlrpdzIy6OV",
        "colab_type": "code",
        "colab": {
          "base_uri": "https://localhost:8080/",
          "height": 34
        },
        "outputId": "25791643-5585-40d3-d741-938052420e2f"
      },
      "source": [
        "km.cluster_centers_.shape"
      ],
      "execution_count": 38,
      "outputs": [
        {
          "output_type": "execute_result",
          "data": {
            "text/plain": [
              "(5, 411)"
            ]
          },
          "metadata": {
            "tags": []
          },
          "execution_count": 38
        }
      ]
    },
    {
      "cell_type": "code",
      "metadata": {
        "id": "T8wKTkbty6xH",
        "colab_type": "code",
        "colab": {
          "base_uri": "https://localhost:8080/",
          "height": 187
        },
        "outputId": "b19b22a2-31c2-4f7f-a07a-208dcc473fe4"
      },
      "source": [
        "print (\"<Document clustering result by K-means>\")\n",
        "\n",
        "#km.cluster_centers_ denotes the importances of each items in centroid.\n",
        "#We need to sort it in decreasing-order and get the top k items.\n",
        "order_centroids = km.cluster_centers_.argsort()[:, ::-1] \n",
        "\n",
        "Cluster_keywords_summary = {}\n",
        "for i in range(num_clusters):\n",
        "    print (\"Cluster \" + str(i) + \" words:\", end='')\n",
        "    Cluster_keywords_summary[i] = []\n",
        "    for ind in order_centroids[i, :6]: #replace 6 with n words per cluster\n",
        "        Cluster_keywords_summary[i].append(tf_selected_words[ind])\n",
        "        print (tf_selected_words[ind] + \",\", end='')\n",
        "    print ()\n",
        "    \n",
        "    cluster_reviews = frame[frame.cluster==i].review.tolist()\n",
        "    print (\"Cluster \" + str(i) + \" reviews (\" + str(len(cluster_reviews)) + \" reviews): \")\n",
        "    print (\", \".join(cluster_reviews))\n",
        "    print ()"
      ],
      "execution_count": 39,
      "outputs": [
        {
          "output_type": "stream",
          "text": [
            "IOPub data rate exceeded.\n",
            "The notebook server will temporarily stop sending output\n",
            "to the client in order to avoid crashing it.\n",
            "To change this limit, set the config variable\n",
            "`--NotebookApp.iopub_data_rate_limit`.\n",
            "\n",
            "Current values:\n",
            "NotebookApp.iopub_data_rate_limit=1000000.0 (bytes/sec)\n",
            "NotebookApp.rate_limit_window=3.0 (secs)\n",
            "\n"
          ],
          "name": "stderr"
        }
      ]
    },
    {
      "cell_type": "markdown",
      "metadata": {
        "id": "NmTqXL0NzLpf",
        "colab_type": "text"
      },
      "source": [
        "# Topic modeling-Latent dirichilet allocation"
      ]
    },
    {
      "cell_type": "code",
      "metadata": {
        "id": "q5Sksg5-zEcS",
        "colab_type": "code",
        "colab": {}
      },
      "source": [
        "# Use LDA for clustering\n",
        "from sklearn.decomposition import LatentDirichletAllocation\n",
        "lda = LatentDirichletAllocation(n_components=5)"
      ],
      "execution_count": 40,
      "outputs": []
    },
    {
      "cell_type": "code",
      "metadata": {
        "id": "otjIqF_fzElO",
        "colab_type": "code",
        "colab": {
          "base_uri": "https://localhost:8080/",
          "height": 34
        },
        "outputId": "2e29e522-ba87-4809-f456-3ee9a8ad061b"
      },
      "source": [
        "from sklearn.feature_extraction.text import CountVectorizer\n",
        "# LDA requires integer values\n",
        "tfidf_model_lda = CountVectorizer(max_df=0.99, max_features=500,\n",
        "                                 min_df=0.01, stop_words='english',\n",
        "                                 tokenizer=tokenization_and_stemming, ngram_range=(1,1))\n",
        "\n",
        "tfidf_matrix_lda = tfidf_model_lda.fit_transform(data) #fit the vectorizer to synopses\n",
        "\n",
        "print (\"In total, there are \" + str(tfidf_matrix_lda.shape[0]) + \\\n",
        "      \" reviews and \" + str(tfidf_matrix_lda.shape[1]) + \" terms.\")"
      ],
      "execution_count": 41,
      "outputs": [
        {
          "output_type": "stream",
          "text": [
            "In total, there are 960056 reviews and 355 terms.\n"
          ],
          "name": "stdout"
        }
      ]
    },
    {
      "cell_type": "code",
      "metadata": {
        "id": "OCyvtOffzEpw",
        "colab_type": "code",
        "colab": {
          "base_uri": "https://localhost:8080/",
          "height": 153
        },
        "outputId": "c674b9fb-3349-46eb-e00a-5fe0a19cae5e"
      },
      "source": [
        "# document topic matrix for tfidf_matrix_lda\n",
        "lda_output = lda.fit_transform(tfidf_matrix_lda)\n",
        "print(lda_output.shape)\n",
        "print(lda_output)"
      ],
      "execution_count": 42,
      "outputs": [
        {
          "output_type": "stream",
          "text": [
            "(960056, 5)\n",
            "[[0.02577426 0.0253714  0.89787495 0.02589161 0.02508778]\n",
            " [0.04159326 0.04068506 0.8365683  0.04087485 0.04027852]\n",
            " [0.10091865 0.59840914 0.10000113 0.10061433 0.10005674]\n",
            " ...\n",
            " [0.0337492  0.03359651 0.32025948 0.57886293 0.03353189]\n",
            " [0.94962853 0.01263307 0.01258087 0.01259939 0.01255814]\n",
            " [0.83255018 0.01867164 0.01833728 0.01860771 0.11183319]]\n"
          ],
          "name": "stdout"
        }
      ]
    },
    {
      "cell_type": "code",
      "metadata": {
        "id": "iHtZAQbXzXR_",
        "colab_type": "code",
        "colab": {
          "base_uri": "https://localhost:8080/",
          "height": 204
        },
        "outputId": "e00ee5a1-fa4b-4e79-a22a-9e9291c3054d"
      },
      "source": [
        "# topics and words matrix\n",
        "topic_word = lda.components_\n",
        "print(topic_word.shape)\n",
        "print(topic_word)"
      ],
      "execution_count": 43,
      "outputs": [
        {
          "output_type": "stream",
          "text": [
            "(5, 355)\n",
            "[[6.69970885e+03 9.16206696e+03 4.95247617e+02 ... 1.82911719e+03\n",
            "  6.46071456e+03 7.22216334e+04]\n",
            " [2.62265043e+03 7.39052073e+03 2.34170038e+03 ... 3.06627920e+04\n",
            "  9.15650958e+02 7.57097904e+02]\n",
            " [1.51779039e+02 3.86296606e+02 1.79015451e+04 ... 1.88111181e+02\n",
            "  7.14239074e+02 8.75032723e+03]\n",
            " [6.23160020e+03 1.78810765e+03 6.38296546e+02 ... 4.84468634e+04\n",
            "  4.00598071e+03 1.26219670e+04]\n",
            " [1.17526148e+03 2.55008056e+02 6.21031400e+00 ... 3.86831163e+04\n",
            "  1.35041470e+03 2.99745005e+01]]\n"
          ],
          "name": "stdout"
        }
      ]
    },
    {
      "cell_type": "code",
      "metadata": {
        "id": "nTlDOqFnzXUl",
        "colab_type": "code",
        "colab": {
          "base_uri": "https://localhost:8080/",
          "height": 359
        },
        "outputId": "73ea5e28-ecef-48b0-823e-308dc7d0fe7e"
      },
      "source": [
        "# column names\n",
        "topic_names = [\"Topic\" + str(i) for i in range(lda.n_components)]\n",
        "\n",
        "# index names\n",
        "doc_names = [\"Doc\" + str(i) for i in range(len(data))]\n",
        "\n",
        "df_document_topic = pd.DataFrame(np.round(lda_output, 2), columns=topic_names, index=doc_names)\n",
        "\n",
        "# get dominant topic for each document\n",
        "topic = np.argmax(df_document_topic.values, axis=1)\n",
        "df_document_topic['topic'] = topic\n",
        "\n",
        "df_document_topic.head(10)"
      ],
      "execution_count": 44,
      "outputs": [
        {
          "output_type": "execute_result",
          "data": {
            "text/html": [
              "<div>\n",
              "<style scoped>\n",
              "    .dataframe tbody tr th:only-of-type {\n",
              "        vertical-align: middle;\n",
              "    }\n",
              "\n",
              "    .dataframe tbody tr th {\n",
              "        vertical-align: top;\n",
              "    }\n",
              "\n",
              "    .dataframe thead th {\n",
              "        text-align: right;\n",
              "    }\n",
              "</style>\n",
              "<table border=\"1\" class=\"dataframe\">\n",
              "  <thead>\n",
              "    <tr style=\"text-align: right;\">\n",
              "      <th></th>\n",
              "      <th>Topic0</th>\n",
              "      <th>Topic1</th>\n",
              "      <th>Topic2</th>\n",
              "      <th>Topic3</th>\n",
              "      <th>Topic4</th>\n",
              "      <th>topic</th>\n",
              "    </tr>\n",
              "  </thead>\n",
              "  <tbody>\n",
              "    <tr>\n",
              "      <th>Doc0</th>\n",
              "      <td>0.03</td>\n",
              "      <td>0.03</td>\n",
              "      <td>0.90</td>\n",
              "      <td>0.03</td>\n",
              "      <td>0.03</td>\n",
              "      <td>2</td>\n",
              "    </tr>\n",
              "    <tr>\n",
              "      <th>Doc1</th>\n",
              "      <td>0.04</td>\n",
              "      <td>0.04</td>\n",
              "      <td>0.84</td>\n",
              "      <td>0.04</td>\n",
              "      <td>0.04</td>\n",
              "      <td>2</td>\n",
              "    </tr>\n",
              "    <tr>\n",
              "      <th>Doc2</th>\n",
              "      <td>0.10</td>\n",
              "      <td>0.60</td>\n",
              "      <td>0.10</td>\n",
              "      <td>0.10</td>\n",
              "      <td>0.10</td>\n",
              "      <td>1</td>\n",
              "    </tr>\n",
              "    <tr>\n",
              "      <th>Doc3</th>\n",
              "      <td>0.74</td>\n",
              "      <td>0.03</td>\n",
              "      <td>0.17</td>\n",
              "      <td>0.03</td>\n",
              "      <td>0.03</td>\n",
              "      <td>0</td>\n",
              "    </tr>\n",
              "    <tr>\n",
              "      <th>Doc4</th>\n",
              "      <td>0.11</td>\n",
              "      <td>0.31</td>\n",
              "      <td>0.01</td>\n",
              "      <td>0.50</td>\n",
              "      <td>0.08</td>\n",
              "      <td>3</td>\n",
              "    </tr>\n",
              "    <tr>\n",
              "      <th>Doc5</th>\n",
              "      <td>0.03</td>\n",
              "      <td>0.03</td>\n",
              "      <td>0.40</td>\n",
              "      <td>0.51</td>\n",
              "      <td>0.03</td>\n",
              "      <td>3</td>\n",
              "    </tr>\n",
              "    <tr>\n",
              "      <th>Doc6</th>\n",
              "      <td>0.03</td>\n",
              "      <td>0.03</td>\n",
              "      <td>0.88</td>\n",
              "      <td>0.03</td>\n",
              "      <td>0.03</td>\n",
              "      <td>2</td>\n",
              "    </tr>\n",
              "    <tr>\n",
              "      <th>Doc7</th>\n",
              "      <td>0.52</td>\n",
              "      <td>0.41</td>\n",
              "      <td>0.03</td>\n",
              "      <td>0.03</td>\n",
              "      <td>0.03</td>\n",
              "      <td>0</td>\n",
              "    </tr>\n",
              "    <tr>\n",
              "      <th>Doc8</th>\n",
              "      <td>0.01</td>\n",
              "      <td>0.01</td>\n",
              "      <td>0.14</td>\n",
              "      <td>0.82</td>\n",
              "      <td>0.01</td>\n",
              "      <td>3</td>\n",
              "    </tr>\n",
              "    <tr>\n",
              "      <th>Doc9</th>\n",
              "      <td>0.58</td>\n",
              "      <td>0.02</td>\n",
              "      <td>0.35</td>\n",
              "      <td>0.02</td>\n",
              "      <td>0.02</td>\n",
              "      <td>0</td>\n",
              "    </tr>\n",
              "  </tbody>\n",
              "</table>\n",
              "</div>"
            ],
            "text/plain": [
              "      Topic0  Topic1  Topic2  Topic3  Topic4  topic\n",
              "Doc0    0.03    0.03    0.90    0.03    0.03      2\n",
              "Doc1    0.04    0.04    0.84    0.04    0.04      2\n",
              "Doc2    0.10    0.60    0.10    0.10    0.10      1\n",
              "Doc3    0.74    0.03    0.17    0.03    0.03      0\n",
              "Doc4    0.11    0.31    0.01    0.50    0.08      3\n",
              "Doc5    0.03    0.03    0.40    0.51    0.03      3\n",
              "Doc6    0.03    0.03    0.88    0.03    0.03      2\n",
              "Doc7    0.52    0.41    0.03    0.03    0.03      0\n",
              "Doc8    0.01    0.01    0.14    0.82    0.01      3\n",
              "Doc9    0.58    0.02    0.35    0.02    0.02      0"
            ]
          },
          "metadata": {
            "tags": []
          },
          "execution_count": 44
        }
      ]
    },
    {
      "cell_type": "code",
      "metadata": {
        "id": "fPYZoyA3zXWk",
        "colab_type": "code",
        "colab": {
          "base_uri": "https://localhost:8080/",
          "height": 204
        },
        "outputId": "36620dd3-db22-4d07-ddc0-cf03dfd55db8"
      },
      "source": [
        "df_document_topic['topic'].value_counts().to_frame()"
      ],
      "execution_count": 45,
      "outputs": [
        {
          "output_type": "execute_result",
          "data": {
            "text/html": [
              "<div>\n",
              "<style scoped>\n",
              "    .dataframe tbody tr th:only-of-type {\n",
              "        vertical-align: middle;\n",
              "    }\n",
              "\n",
              "    .dataframe tbody tr th {\n",
              "        vertical-align: top;\n",
              "    }\n",
              "\n",
              "    .dataframe thead th {\n",
              "        text-align: right;\n",
              "    }\n",
              "</style>\n",
              "<table border=\"1\" class=\"dataframe\">\n",
              "  <thead>\n",
              "    <tr style=\"text-align: right;\">\n",
              "      <th></th>\n",
              "      <th>topic</th>\n",
              "    </tr>\n",
              "  </thead>\n",
              "  <tbody>\n",
              "    <tr>\n",
              "      <th>2</th>\n",
              "      <td>245359</td>\n",
              "    </tr>\n",
              "    <tr>\n",
              "      <th>3</th>\n",
              "      <td>242986</td>\n",
              "    </tr>\n",
              "    <tr>\n",
              "      <th>0</th>\n",
              "      <td>229354</td>\n",
              "    </tr>\n",
              "    <tr>\n",
              "      <th>4</th>\n",
              "      <td>144158</td>\n",
              "    </tr>\n",
              "    <tr>\n",
              "      <th>1</th>\n",
              "      <td>98199</td>\n",
              "    </tr>\n",
              "  </tbody>\n",
              "</table>\n",
              "</div>"
            ],
            "text/plain": [
              "    topic\n",
              "2  245359\n",
              "3  242986\n",
              "0  229354\n",
              "4  144158\n",
              "1   98199"
            ]
          },
          "metadata": {
            "tags": []
          },
          "execution_count": 45
        }
      ]
    },
    {
      "cell_type": "code",
      "metadata": {
        "id": "R1Ka0JxvzXZB",
        "colab_type": "code",
        "colab": {
          "base_uri": "https://localhost:8080/",
          "height": 423
        },
        "outputId": "75610947-9804-4f53-8082-978d75f8e1b5"
      },
      "source": [
        "# topic word matrix\n",
        "print(lda.components_)\n",
        "# topic-word matrix\n",
        "df_topic_words = pd.DataFrame(lda.components_)\n",
        "\n",
        "# column and index\n",
        "df_topic_words.columns = tfidf_model_lda.get_feature_names()\n",
        "df_topic_words.index = topic_names\n",
        "\n",
        "df_topic_words.head()"
      ],
      "execution_count": 46,
      "outputs": [
        {
          "output_type": "stream",
          "text": [
            "[[6.69970885e+03 9.16206696e+03 4.95247617e+02 ... 1.82911719e+03\n",
            "  6.46071456e+03 7.22216334e+04]\n",
            " [2.62265043e+03 7.39052073e+03 2.34170038e+03 ... 3.06627920e+04\n",
            "  9.15650958e+02 7.57097904e+02]\n",
            " [1.51779039e+02 3.86296606e+02 1.79015451e+04 ... 1.88111181e+02\n",
            "  7.14239074e+02 8.75032723e+03]\n",
            " [6.23160020e+03 1.78810765e+03 6.38296546e+02 ... 4.84468634e+04\n",
            "  4.00598071e+03 1.26219670e+04]\n",
            " [1.17526148e+03 2.55008056e+02 6.21031400e+00 ... 3.86831163e+04\n",
            "  1.35041470e+03 2.99745005e+01]]\n"
          ],
          "name": "stdout"
        },
        {
          "output_type": "execute_result",
          "data": {
            "text/html": [
              "<div>\n",
              "<style scoped>\n",
              "    .dataframe tbody tr th:only-of-type {\n",
              "        vertical-align: middle;\n",
              "    }\n",
              "\n",
              "    .dataframe tbody tr th {\n",
              "        vertical-align: top;\n",
              "    }\n",
              "\n",
              "    .dataframe thead th {\n",
              "        text-align: right;\n",
              "    }\n",
              "</style>\n",
              "<table border=\"1\" class=\"dataframe\">\n",
              "  <thead>\n",
              "    <tr style=\"text-align: right;\">\n",
              "      <th></th>\n",
              "      <th>'d</th>\n",
              "      <th>abl</th>\n",
              "      <th>absolut</th>\n",
              "      <th>accur</th>\n",
              "      <th>actual</th>\n",
              "      <th>adjust</th>\n",
              "      <th>ago</th>\n",
              "      <th>alarm</th>\n",
              "      <th>alreadi</th>\n",
              "      <th>alway</th>\n",
              "      <th>amaz</th>\n",
              "      <th>amazon</th>\n",
              "      <th>anoth</th>\n",
              "      <th>anyon</th>\n",
              "      <th>anyth</th>\n",
              "      <th>appear</th>\n",
              "      <th>arm</th>\n",
              "      <th>arriv</th>\n",
              "      <th>ask</th>\n",
              "      <th>attract</th>\n",
              "      <th>automat</th>\n",
              "      <th>away</th>\n",
              "      <th>awesom</th>\n",
              "      <th>bad</th>\n",
              "      <th>band</th>\n",
              "      <th>batteri</th>\n",
              "      <th>beat</th>\n",
              "      <th>beauti</th>\n",
              "      <th>believ</th>\n",
              "      <th>best</th>\n",
              "      <th>better</th>\n",
              "      <th>bezel</th>\n",
              "      <th>big</th>\n",
              "      <th>bigger</th>\n",
              "      <th>birthday</th>\n",
              "      <th>bit</th>\n",
              "      <th>black</th>\n",
              "      <th>blue</th>\n",
              "      <th>bought</th>\n",
              "      <th>box</th>\n",
              "      <th>...</th>\n",
              "      <th>thought</th>\n",
              "      <th>time</th>\n",
              "      <th>timepiec</th>\n",
              "      <th>timex</th>\n",
              "      <th>took</th>\n",
              "      <th>tool</th>\n",
              "      <th>total</th>\n",
              "      <th>tri</th>\n",
              "      <th>turn</th>\n",
              "      <th>type</th>\n",
              "      <th>uniqu</th>\n",
              "      <th>updat</th>\n",
              "      <th>use</th>\n",
              "      <th>usual</th>\n",
              "      <th>valu</th>\n",
              "      <th>ve</th>\n",
              "      <th>wait</th>\n",
              "      <th>want</th>\n",
              "      <th>warranti</th>\n",
              "      <th>watch</th>\n",
              "      <th>water</th>\n",
              "      <th>way</th>\n",
              "      <th>wear</th>\n",
              "      <th>week</th>\n",
              "      <th>weight</th>\n",
              "      <th>went</th>\n",
              "      <th>white</th>\n",
              "      <th>wife</th>\n",
              "      <th>wind</th>\n",
              "      <th>wish</th>\n",
              "      <th>wo</th>\n",
              "      <th>wonder</th>\n",
              "      <th>wore</th>\n",
              "      <th>work</th>\n",
              "      <th>worn</th>\n",
              "      <th>worri</th>\n",
              "      <th>worth</th>\n",
              "      <th>wrist</th>\n",
              "      <th>wrong</th>\n",
              "      <th>year</th>\n",
              "    </tr>\n",
              "  </thead>\n",
              "  <tbody>\n",
              "    <tr>\n",
              "      <th>Topic0</th>\n",
              "      <td>6699.708850</td>\n",
              "      <td>9162.066958</td>\n",
              "      <td>495.247617</td>\n",
              "      <td>12793.442206</td>\n",
              "      <td>8127.920944</td>\n",
              "      <td>5205.538318</td>\n",
              "      <td>15793.882462</td>\n",
              "      <td>28684.185051</td>\n",
              "      <td>7893.942085</td>\n",
              "      <td>8902.598843</td>\n",
              "      <td>687.551303</td>\n",
              "      <td>30962.353162</td>\n",
              "      <td>23822.495594</td>\n",
              "      <td>2426.249166</td>\n",
              "      <td>6376.764351</td>\n",
              "      <td>4529.460966</td>\n",
              "      <td>1797.664697</td>\n",
              "      <td>11064.259566</td>\n",
              "      <td>5569.037246</td>\n",
              "      <td>1543.322482</td>\n",
              "      <td>7754.072948</td>\n",
              "      <td>7556.278594</td>\n",
              "      <td>377.274721</td>\n",
              "      <td>10581.088667</td>\n",
              "      <td>33082.065665</td>\n",
              "      <td>77833.020478</td>\n",
              "      <td>1639.356668</td>\n",
              "      <td>812.150586</td>\n",
              "      <td>3668.299720</td>\n",
              "      <td>5534.964162</td>\n",
              "      <td>8795.124239</td>\n",
              "      <td>1652.574095</td>\n",
              "      <td>1083.742983</td>\n",
              "      <td>27.454617</td>\n",
              "      <td>30.708307</td>\n",
              "      <td>3902.218435</td>\n",
              "      <td>931.769617</td>\n",
              "      <td>110.064975</td>\n",
              "      <td>33273.071614</td>\n",
              "      <td>7790.556552</td>\n",
              "      <td>...</td>\n",
              "      <td>8018.762753</td>\n",
              "      <td>163928.731161</td>\n",
              "      <td>1594.235444</td>\n",
              "      <td>15248.175662</td>\n",
              "      <td>14552.280033</td>\n",
              "      <td>2.225328</td>\n",
              "      <td>4106.884161</td>\n",
              "      <td>22070.424764</td>\n",
              "      <td>12493.077796</td>\n",
              "      <td>3152.241193</td>\n",
              "      <td>56.355065</td>\n",
              "      <td>11589.560882</td>\n",
              "      <td>69232.395210</td>\n",
              "      <td>3756.349433</td>\n",
              "      <td>1388.269855</td>\n",
              "      <td>28546.678411</td>\n",
              "      <td>5558.311479</td>\n",
              "      <td>23088.914360</td>\n",
              "      <td>17623.956998</td>\n",
              "      <td>382184.132838</td>\n",
              "      <td>28465.956380</td>\n",
              "      <td>13441.659180</td>\n",
              "      <td>22579.049726</td>\n",
              "      <td>37041.099950</td>\n",
              "      <td>379.171670</td>\n",
              "      <td>10762.533972</td>\n",
              "      <td>135.847815</td>\n",
              "      <td>1757.162160</td>\n",
              "      <td>11470.462756</td>\n",
              "      <td>3958.466774</td>\n",
              "      <td>6950.627399</td>\n",
              "      <td>2420.089343</td>\n",
              "      <td>9243.804723</td>\n",
              "      <td>101806.967113</td>\n",
              "      <td>6416.097650</td>\n",
              "      <td>3682.306760</td>\n",
              "      <td>6783.572764</td>\n",
              "      <td>1829.117185</td>\n",
              "      <td>6460.714562</td>\n",
              "      <td>72221.633355</td>\n",
              "    </tr>\n",
              "    <tr>\n",
              "      <th>Topic1</th>\n",
              "      <td>2622.650433</td>\n",
              "      <td>7390.520732</td>\n",
              "      <td>2341.700381</td>\n",
              "      <td>7016.599423</td>\n",
              "      <td>6306.696840</td>\n",
              "      <td>30026.254135</td>\n",
              "      <td>144.932367</td>\n",
              "      <td>0.766292</td>\n",
              "      <td>2801.703622</td>\n",
              "      <td>2278.846298</td>\n",
              "      <td>2226.551200</td>\n",
              "      <td>5029.393127</td>\n",
              "      <td>3703.782281</td>\n",
              "      <td>1519.595031</td>\n",
              "      <td>1542.941670</td>\n",
              "      <td>5950.571129</td>\n",
              "      <td>2459.222153</td>\n",
              "      <td>938.018001</td>\n",
              "      <td>593.577540</td>\n",
              "      <td>4624.355572</td>\n",
              "      <td>13770.356831</td>\n",
              "      <td>1990.590733</td>\n",
              "      <td>575.574873</td>\n",
              "      <td>1399.698665</td>\n",
              "      <td>71917.239084</td>\n",
              "      <td>463.160664</td>\n",
              "      <td>953.946748</td>\n",
              "      <td>12720.155472</td>\n",
              "      <td>1945.915770</td>\n",
              "      <td>3053.828446</td>\n",
              "      <td>6978.403626</td>\n",
              "      <td>16575.877548</td>\n",
              "      <td>9893.065140</td>\n",
              "      <td>1129.905845</td>\n",
              "      <td>0.397821</td>\n",
              "      <td>13093.113829</td>\n",
              "      <td>21387.340628</td>\n",
              "      <td>12329.621057</td>\n",
              "      <td>2189.756013</td>\n",
              "      <td>7357.880627</td>\n",
              "      <td>...</td>\n",
              "      <td>2423.690076</td>\n",
              "      <td>34918.534158</td>\n",
              "      <td>4617.338279</td>\n",
              "      <td>5.721112</td>\n",
              "      <td>7057.237936</td>\n",
              "      <td>18397.168311</td>\n",
              "      <td>1708.690963</td>\n",
              "      <td>5824.379506</td>\n",
              "      <td>4695.519967</td>\n",
              "      <td>3849.516217</td>\n",
              "      <td>2757.951874</td>\n",
              "      <td>1134.650105</td>\n",
              "      <td>25917.759754</td>\n",
              "      <td>2345.986944</td>\n",
              "      <td>2229.582152</td>\n",
              "      <td>6894.857597</td>\n",
              "      <td>642.712108</td>\n",
              "      <td>7492.026312</td>\n",
              "      <td>25.628815</td>\n",
              "      <td>203724.519781</td>\n",
              "      <td>1489.723022</td>\n",
              "      <td>8727.375136</td>\n",
              "      <td>12852.565097</td>\n",
              "      <td>3799.114900</td>\n",
              "      <td>2214.583671</td>\n",
              "      <td>1037.594779</td>\n",
              "      <td>12919.034576</td>\n",
              "      <td>141.035217</td>\n",
              "      <td>3900.879601</td>\n",
              "      <td>3894.397408</td>\n",
              "      <td>2852.290717</td>\n",
              "      <td>1496.234817</td>\n",
              "      <td>441.249214</td>\n",
              "      <td>8202.017965</td>\n",
              "      <td>2414.721866</td>\n",
              "      <td>1491.123517</td>\n",
              "      <td>5438.485611</td>\n",
              "      <td>30662.792025</td>\n",
              "      <td>915.650958</td>\n",
              "      <td>757.097904</td>\n",
              "    </tr>\n",
              "    <tr>\n",
              "      <th>Topic2</th>\n",
              "      <td>151.779039</td>\n",
              "      <td>386.296606</td>\n",
              "      <td>17901.545142</td>\n",
              "      <td>155.879518</td>\n",
              "      <td>1259.979773</td>\n",
              "      <td>9.727331</td>\n",
              "      <td>866.903385</td>\n",
              "      <td>0.200918</td>\n",
              "      <td>2496.672815</td>\n",
              "      <td>4793.881241</td>\n",
              "      <td>13571.647108</td>\n",
              "      <td>20704.188632</td>\n",
              "      <td>6928.383270</td>\n",
              "      <td>6908.023228</td>\n",
              "      <td>968.705527</td>\n",
              "      <td>352.880725</td>\n",
              "      <td>115.816819</td>\n",
              "      <td>16809.336978</td>\n",
              "      <td>4263.202537</td>\n",
              "      <td>1465.961524</td>\n",
              "      <td>11.083697</td>\n",
              "      <td>866.824026</td>\n",
              "      <td>15341.867677</td>\n",
              "      <td>6.557924</td>\n",
              "      <td>631.847760</td>\n",
              "      <td>3.719092</td>\n",
              "      <td>2339.119859</td>\n",
              "      <td>59127.459727</td>\n",
              "      <td>1935.144897</td>\n",
              "      <td>10959.543300</td>\n",
              "      <td>7951.348698</td>\n",
              "      <td>0.202930</td>\n",
              "      <td>4193.841653</td>\n",
              "      <td>106.068418</td>\n",
              "      <td>13466.582928</td>\n",
              "      <td>64.815908</td>\n",
              "      <td>221.333224</td>\n",
              "      <td>225.892535</td>\n",
              "      <td>49330.299906</td>\n",
              "      <td>14880.755745</td>\n",
              "      <td>...</td>\n",
              "      <td>3380.321529</td>\n",
              "      <td>25937.637821</td>\n",
              "      <td>2269.623128</td>\n",
              "      <td>2.832265</td>\n",
              "      <td>1649.114249</td>\n",
              "      <td>0.200885</td>\n",
              "      <td>3133.947865</td>\n",
              "      <td>2.669074</td>\n",
              "      <td>8.040278</td>\n",
              "      <td>149.406135</td>\n",
              "      <td>3167.099955</td>\n",
              "      <td>0.258690</td>\n",
              "      <td>317.583627</td>\n",
              "      <td>242.383519</td>\n",
              "      <td>6795.441610</td>\n",
              "      <td>102.747458</td>\n",
              "      <td>4451.659110</td>\n",
              "      <td>12870.044661</td>\n",
              "      <td>34.475345</td>\n",
              "      <td>268816.345305</td>\n",
              "      <td>0.219242</td>\n",
              "      <td>2804.396381</td>\n",
              "      <td>16963.029886</td>\n",
              "      <td>438.650896</td>\n",
              "      <td>381.205541</td>\n",
              "      <td>1504.031967</td>\n",
              "      <td>320.116665</td>\n",
              "      <td>21909.264697</td>\n",
              "      <td>3.018297</td>\n",
              "      <td>1597.133125</td>\n",
              "      <td>301.078804</td>\n",
              "      <td>6011.903112</td>\n",
              "      <td>1020.865004</td>\n",
              "      <td>16410.845617</td>\n",
              "      <td>1503.109909</td>\n",
              "      <td>519.611880</td>\n",
              "      <td>9146.860678</td>\n",
              "      <td>188.111181</td>\n",
              "      <td>714.239074</td>\n",
              "      <td>8750.327227</td>\n",
              "    </tr>\n",
              "    <tr>\n",
              "      <th>Topic3</th>\n",
              "      <td>6231.600203</td>\n",
              "      <td>1788.107647</td>\n",
              "      <td>638.296546</td>\n",
              "      <td>8093.912056</td>\n",
              "      <td>9557.458694</td>\n",
              "      <td>930.896314</td>\n",
              "      <td>1172.198282</td>\n",
              "      <td>294.922016</td>\n",
              "      <td>2590.743247</td>\n",
              "      <td>10297.444150</td>\n",
              "      <td>2232.114740</td>\n",
              "      <td>1033.900817</td>\n",
              "      <td>7378.632614</td>\n",
              "      <td>5908.151664</td>\n",
              "      <td>7284.447048</td>\n",
              "      <td>2991.171796</td>\n",
              "      <td>6854.267668</td>\n",
              "      <td>20.521567</td>\n",
              "      <td>2691.065912</td>\n",
              "      <td>6931.220651</td>\n",
              "      <td>1182.508038</td>\n",
              "      <td>1559.587443</td>\n",
              "      <td>4724.432082</td>\n",
              "      <td>2002.566884</td>\n",
              "      <td>64512.558332</td>\n",
              "      <td>290.776149</td>\n",
              "      <td>6937.930382</td>\n",
              "      <td>5199.017478</td>\n",
              "      <td>1835.690273</td>\n",
              "      <td>7996.795754</td>\n",
              "      <td>10646.293011</td>\n",
              "      <td>718.107914</td>\n",
              "      <td>50657.227086</td>\n",
              "      <td>5805.242979</td>\n",
              "      <td>2.109001</td>\n",
              "      <td>14015.954404</td>\n",
              "      <td>17522.998489</td>\n",
              "      <td>9387.316978</td>\n",
              "      <td>14806.285441</td>\n",
              "      <td>538.557940</td>\n",
              "      <td>...</td>\n",
              "      <td>7848.539265</td>\n",
              "      <td>58726.903058</td>\n",
              "      <td>4371.554515</td>\n",
              "      <td>11850.200853</td>\n",
              "      <td>210.323450</td>\n",
              "      <td>0.200674</td>\n",
              "      <td>640.993416</td>\n",
              "      <td>3716.752760</td>\n",
              "      <td>1896.835653</td>\n",
              "      <td>3290.598955</td>\n",
              "      <td>4421.112250</td>\n",
              "      <td>595.451420</td>\n",
              "      <td>24693.781372</td>\n",
              "      <td>3623.318169</td>\n",
              "      <td>1298.444129</td>\n",
              "      <td>29242.150589</td>\n",
              "      <td>223.236082</td>\n",
              "      <td>31019.369332</td>\n",
              "      <td>0.776711</td>\n",
              "      <td>456759.134668</td>\n",
              "      <td>970.703842</td>\n",
              "      <td>11113.002106</td>\n",
              "      <td>97060.653147</td>\n",
              "      <td>3449.874777</td>\n",
              "      <td>18417.392473</td>\n",
              "      <td>590.773916</td>\n",
              "      <td>7581.545018</td>\n",
              "      <td>620.334287</td>\n",
              "      <td>318.637536</td>\n",
              "      <td>5538.496204</td>\n",
              "      <td>4110.790123</td>\n",
              "      <td>1617.984122</td>\n",
              "      <td>959.923074</td>\n",
              "      <td>22144.547006</td>\n",
              "      <td>11087.997861</td>\n",
              "      <td>5440.189500</td>\n",
              "      <td>2401.261003</td>\n",
              "      <td>48446.863357</td>\n",
              "      <td>4005.980709</td>\n",
              "      <td>12621.967014</td>\n",
              "    </tr>\n",
              "    <tr>\n",
              "      <th>Topic4</th>\n",
              "      <td>1175.261475</td>\n",
              "      <td>255.008056</td>\n",
              "      <td>6.210314</td>\n",
              "      <td>680.166797</td>\n",
              "      <td>5522.943748</td>\n",
              "      <td>920.583901</td>\n",
              "      <td>1.083504</td>\n",
              "      <td>141.925722</td>\n",
              "      <td>237.938231</td>\n",
              "      <td>418.229469</td>\n",
              "      <td>292.135649</td>\n",
              "      <td>2138.164262</td>\n",
              "      <td>2155.706241</td>\n",
              "      <td>839.980910</td>\n",
              "      <td>400.141404</td>\n",
              "      <td>7385.915385</td>\n",
              "      <td>882.028662</td>\n",
              "      <td>4606.863888</td>\n",
              "      <td>143.116764</td>\n",
              "      <td>2268.139771</td>\n",
              "      <td>51.978485</td>\n",
              "      <td>1139.719205</td>\n",
              "      <td>17.850648</td>\n",
              "      <td>7945.087859</td>\n",
              "      <td>48010.289159</td>\n",
              "      <td>0.323618</td>\n",
              "      <td>2.646343</td>\n",
              "      <td>1115.216737</td>\n",
              "      <td>850.949341</td>\n",
              "      <td>2060.868338</td>\n",
              "      <td>15312.830425</td>\n",
              "      <td>57.237514</td>\n",
              "      <td>10331.123138</td>\n",
              "      <td>6661.328141</td>\n",
              "      <td>0.201943</td>\n",
              "      <td>13344.897425</td>\n",
              "      <td>2492.558043</td>\n",
              "      <td>359.104454</td>\n",
              "      <td>5531.587026</td>\n",
              "      <td>9348.249137</td>\n",
              "      <td>...</td>\n",
              "      <td>6924.686378</td>\n",
              "      <td>6581.193802</td>\n",
              "      <td>636.248635</td>\n",
              "      <td>330.070107</td>\n",
              "      <td>151.044332</td>\n",
              "      <td>0.204801</td>\n",
              "      <td>770.483594</td>\n",
              "      <td>807.773896</td>\n",
              "      <td>512.526306</td>\n",
              "      <td>1138.237500</td>\n",
              "      <td>56.480856</td>\n",
              "      <td>20.078903</td>\n",
              "      <td>10234.480036</td>\n",
              "      <td>454.961935</td>\n",
              "      <td>8559.262254</td>\n",
              "      <td>61.565946</td>\n",
              "      <td>13.081221</td>\n",
              "      <td>4811.645334</td>\n",
              "      <td>1.162131</td>\n",
              "      <td>112192.867408</td>\n",
              "      <td>2547.397515</td>\n",
              "      <td>5966.567197</td>\n",
              "      <td>611.702144</td>\n",
              "      <td>181.259477</td>\n",
              "      <td>2156.646644</td>\n",
              "      <td>139.065366</td>\n",
              "      <td>712.455926</td>\n",
              "      <td>1765.203639</td>\n",
              "      <td>2.001810</td>\n",
              "      <td>3172.506489</td>\n",
              "      <td>445.212956</td>\n",
              "      <td>597.788606</td>\n",
              "      <td>1.157985</td>\n",
              "      <td>10451.622299</td>\n",
              "      <td>54.072714</td>\n",
              "      <td>329.768343</td>\n",
              "      <td>5856.819943</td>\n",
              "      <td>38683.116252</td>\n",
              "      <td>1350.414698</td>\n",
              "      <td>29.974500</td>\n",
              "    </tr>\n",
              "  </tbody>\n",
              "</table>\n",
              "<p>5 rows × 355 columns</p>\n",
              "</div>"
            ],
            "text/plain": [
              "                 'd          abl  ...        wrong          year\n",
              "Topic0  6699.708850  9162.066958  ...  6460.714562  72221.633355\n",
              "Topic1  2622.650433  7390.520732  ...   915.650958    757.097904\n",
              "Topic2   151.779039   386.296606  ...   714.239074   8750.327227\n",
              "Topic3  6231.600203  1788.107647  ...  4005.980709  12621.967014\n",
              "Topic4  1175.261475   255.008056  ...  1350.414698     29.974500\n",
              "\n",
              "[5 rows x 355 columns]"
            ]
          },
          "metadata": {
            "tags": []
          },
          "execution_count": 46
        }
      ]
    },
    {
      "cell_type": "code",
      "metadata": {
        "id": "GOZg0S21zcEA",
        "colab_type": "code",
        "colab": {
          "base_uri": "https://localhost:8080/",
          "height": 204
        },
        "outputId": "38677d32-6eb1-4932-da76-89422edd29cd"
      },
      "source": [
        "# print top n keywords for each topic\n",
        "def print_topic_words(tfidf_model, lda_model, n_words):\n",
        "    words = np.array(tfidf_model.get_feature_names())\n",
        "    topic_words = []\n",
        "    # for each topic, we have words weight\n",
        "    for topic_words_weights in lda_model.components_:\n",
        "        top_words = topic_words_weights.argsort()[::-1][:n_words]\n",
        "        topic_words.append(words.take(top_words))\n",
        "    return topic_words\n",
        "\n",
        "topic_keywords = print_topic_words(tfidf_model=tfidf_model_lda, lda_model=lda, n_words=15)        \n",
        "\n",
        "df_topic_words = pd.DataFrame(topic_keywords)\n",
        "df_topic_words.columns = ['Word '+str(i) for i in range(df_topic_words.shape[1])]\n",
        "df_topic_words.index = ['Topic '+str(i) for i in range(df_topic_words.shape[0])]\n",
        "df_topic_words"
      ],
      "execution_count": 47,
      "outputs": [
        {
          "output_type": "execute_result",
          "data": {
            "text/html": [
              "<div>\n",
              "<style scoped>\n",
              "    .dataframe tbody tr th:only-of-type {\n",
              "        vertical-align: middle;\n",
              "    }\n",
              "\n",
              "    .dataframe tbody tr th {\n",
              "        vertical-align: top;\n",
              "    }\n",
              "\n",
              "    .dataframe thead th {\n",
              "        text-align: right;\n",
              "    }\n",
              "</style>\n",
              "<table border=\"1\" class=\"dataframe\">\n",
              "  <thead>\n",
              "    <tr style=\"text-align: right;\">\n",
              "      <th></th>\n",
              "      <th>Word 0</th>\n",
              "      <th>Word 1</th>\n",
              "      <th>Word 2</th>\n",
              "      <th>Word 3</th>\n",
              "      <th>Word 4</th>\n",
              "      <th>Word 5</th>\n",
              "      <th>Word 6</th>\n",
              "      <th>Word 7</th>\n",
              "      <th>Word 8</th>\n",
              "      <th>Word 9</th>\n",
              "      <th>Word 10</th>\n",
              "      <th>Word 11</th>\n",
              "      <th>Word 12</th>\n",
              "      <th>Word 13</th>\n",
              "      <th>Word 14</th>\n",
              "    </tr>\n",
              "  </thead>\n",
              "  <tbody>\n",
              "    <tr>\n",
              "      <th>Topic 0</th>\n",
              "      <td>watch</td>\n",
              "      <td>time</td>\n",
              "      <td>work</td>\n",
              "      <td>batteri</td>\n",
              "      <td>year</td>\n",
              "      <td>use</td>\n",
              "      <td>day</td>\n",
              "      <td>replac</td>\n",
              "      <td>set</td>\n",
              "      <td>month</td>\n",
              "      <td>need</td>\n",
              "      <td>week</td>\n",
              "      <td>like</td>\n",
              "      <td>bought</td>\n",
              "      <td>new</td>\n",
              "    </tr>\n",
              "    <tr>\n",
              "      <th>Topic 1</th>\n",
              "      <td>watch</td>\n",
              "      <td>band</td>\n",
              "      <td>hand</td>\n",
              "      <td>link</td>\n",
              "      <td>dial</td>\n",
              "      <td>time</td>\n",
              "      <td>face</td>\n",
              "      <td>wrist</td>\n",
              "      <td>second</td>\n",
              "      <td>adjust</td>\n",
              "      <td>remov</td>\n",
              "      <td>use</td>\n",
              "      <td>make</td>\n",
              "      <td>case</td>\n",
              "      <td>pin</td>\n",
              "    </tr>\n",
              "    <tr>\n",
              "      <th>Topic 2</th>\n",
              "      <td>watch</td>\n",
              "      <td>love</td>\n",
              "      <td>great</td>\n",
              "      <td>look</td>\n",
              "      <td>gift</td>\n",
              "      <td>beauti</td>\n",
              "      <td>price</td>\n",
              "      <td>bought</td>\n",
              "      <td>purchas</td>\n",
              "      <td>excel</td>\n",
              "      <td>recommend</td>\n",
              "      <td>perfect</td>\n",
              "      <td>husband</td>\n",
              "      <td>product</td>\n",
              "      <td>got</td>\n",
              "    </tr>\n",
              "    <tr>\n",
              "      <th>Topic 3</th>\n",
              "      <td>watch</td>\n",
              "      <td>look</td>\n",
              "      <td>like</td>\n",
              "      <td>nice</td>\n",
              "      <td>wear</td>\n",
              "      <td>realli</td>\n",
              "      <td>great</td>\n",
              "      <td>band</td>\n",
              "      <td>face</td>\n",
              "      <td>time</td>\n",
              "      <td>big</td>\n",
              "      <td>easi</td>\n",
              "      <td>light</td>\n",
              "      <td>wrist</td>\n",
              "      <td>love</td>\n",
              "    </tr>\n",
              "    <tr>\n",
              "      <th>Topic 4</th>\n",
              "      <td>good</td>\n",
              "      <td>watch</td>\n",
              "      <td>look</td>\n",
              "      <td>qualiti</td>\n",
              "      <td>strap</td>\n",
              "      <td>nice</td>\n",
              "      <td>band</td>\n",
              "      <td>price</td>\n",
              "      <td>fit</td>\n",
              "      <td>wrist</td>\n",
              "      <td>like</td>\n",
              "      <td>product</td>\n",
              "      <td>expect</td>\n",
              "      <td>leather</td>\n",
              "      <td>size</td>\n",
              "    </tr>\n",
              "  </tbody>\n",
              "</table>\n",
              "</div>"
            ],
            "text/plain": [
              "        Word 0 Word 1 Word 2   Word 3  ...  Word 11  Word 12  Word 13 Word 14\n",
              "Topic 0  watch   time   work  batteri  ...     week     like   bought     new\n",
              "Topic 1  watch   band   hand     link  ...      use     make     case     pin\n",
              "Topic 2  watch   love  great     look  ...  perfect  husband  product     got\n",
              "Topic 3  watch   look   like     nice  ...     easi    light    wrist    love\n",
              "Topic 4   good  watch   look  qualiti  ...  product   expect  leather    size\n",
              "\n",
              "[5 rows x 15 columns]"
            ]
          },
          "metadata": {
            "tags": []
          },
          "execution_count": 47
        }
      ]
    },
    {
      "cell_type": "markdown",
      "metadata": {
        "id": "l9ROETW5YGfv",
        "colab_type": "text"
      },
      "source": [
        "# Report"
      ]
    },
    {
      "cell_type": "markdown",
      "metadata": {
        "id": "P2EmrTdCCOIr",
        "colab_type": "text"
      },
      "source": [
        "**Motivation:**\n",
        "\n",
        "This project did clustering on customers' reviews about watches and applied LDA and KNN algorithms to build model to assign the review to its relative topic group.\n",
        "\n",
        "\n",
        "**Step1: Text preprocessing**\n",
        "* Exclude stop words and text tokenization(1&2 gram) using NLTK tools\n",
        "\n",
        "\n",
        "**Step2: Feature engineering**\n",
        "* Applied TF-IDF to transfer text into feature matrix\n",
        "\n",
        "\n",
        "**Step3: Model training**\n",
        "* 5 means clutsering was used to divide those comments into 5 groups\n",
        "* Build LDA model to do clusterig and find the top keywords for each topic\n",
        "\n"
      ]
    },
    {
      "cell_type": "code",
      "metadata": {
        "id": "pv3UXmjcUBnz",
        "colab_type": "code",
        "colab": {}
      },
      "source": [
        ""
      ],
      "execution_count": null,
      "outputs": []
    }
  ]
}